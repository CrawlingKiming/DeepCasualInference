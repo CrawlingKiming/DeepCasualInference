{
 "cells": [
  {
   "cell_type": "code",
   "execution_count": 1,
   "id": "8991723d",
   "metadata": {},
   "outputs": [],
   "source": [
    "# import neccessary packages \n",
    "import numpy as np \n",
    "import pandas as pd \n",
    "import torch \n",
    "import matplotlib.pyplot as plt "
   ]
  },
  {
   "cell_type": "code",
   "execution_count": 2,
   "id": "33c2a5d9",
   "metadata": {},
   "outputs": [],
   "source": [
    "# import SWAN datasets \n",
    "df1 = pd.read_csv(\"./SWAN/visit1.csv\")\n",
    "df2 = pd.read_csv(\"./SWAN/visit2.csv\")\n",
    "df3 = pd.read_csv(\"./SWAN/visit3.csv\")\n",
    "df4 = pd.read_csv(\"./SWAN/visit4.csv\")\n",
    "df5 = pd.read_csv(\"./SWAN/visit5.csv\")\n",
    "df6 = pd.read_csv(\"./SWAN/visit6.csv\")\n",
    "df7 = pd.read_csv(\"./SWAN/visit7.csv\")\n",
    "df8 = pd.read_csv(\"./SWAN/visit8.csv\")\n",
    "df9 = pd.read_csv(\"./SWAN/visit9.csv\")\n",
    "df10 = pd.read_csv(\"./SWAN/visit10.csv\")"
   ]
  },
  {
   "cell_type": "markdown",
   "id": "2d59a6be",
   "metadata": {},
   "source": [
    "### EDA "
   ]
  },
  {
   "cell_type": "code",
   "execution_count": 3,
   "id": "433cde1e",
   "metadata": {},
   "outputs": [
    {
     "data": {
      "text/plain": [
       "Index(['Unnamed: 0', 'id', 'mcc', 'status', 'cardio', 'hyperlipidemia',\n",
       "       'thyroid', 'nerv', 'streoid', 'hormone', 'painmed', 'sleep', 'anemia',\n",
       "       'cancers', 'migraine', 'fracture', 'work1', 'pss', 'depress.score',\n",
       "       'age', 'race', 'marital', 'income', 'sleeph', 'lifeevent'],\n",
       "      dtype='object')"
      ]
     },
     "execution_count": 3,
     "metadata": {},
     "output_type": "execute_result"
    }
   ],
   "source": [
    "df1.columns"
   ]
  },
  {
   "cell_type": "code",
   "execution_count": 4,
   "id": "eb1efd25",
   "metadata": {},
   "outputs": [
    {
     "data": {
      "text/plain": [
       "mcc\n",
       "0.0    1174\n",
       "1.0     194\n",
       "2.0     695\n",
       "dtype: int64"
      ]
     },
     "execution_count": 4,
     "metadata": {},
     "output_type": "execute_result"
    }
   ],
   "source": [
    "df10.groupby([\"mcc\"]).size()"
   ]
  },
  {
   "cell_type": "code",
   "execution_count": 5,
   "id": "99a2be00",
   "metadata": {},
   "outputs": [],
   "source": [
    "raw_dfs = [df1, df2, df3, df4, df5, df6, df7, df8, df9, df10]"
   ]
  },
  {
   "cell_type": "code",
   "execution_count": 6,
   "id": "0474de3f",
   "metadata": {},
   "outputs": [],
   "source": [
    "temp = np.asarray([])\n",
    "for tempdf in raw_dfs :\n",
    "    val = tempdf[\"id\"].values\n",
    "    temp = np.append(temp,val)"
   ]
  },
  {
   "cell_type": "code",
   "execution_count": 7,
   "id": "3fcc12c5",
   "metadata": {},
   "outputs": [
    {
     "data": {
      "text/plain": [
       "3095"
      ]
     },
     "execution_count": 7,
     "metadata": {},
     "output_type": "execute_result"
    }
   ],
   "source": [
    "keys = np.unique(temp)\n",
    "len(keys)"
   ]
  },
  {
   "cell_type": "markdown",
   "id": "987019f8",
   "metadata": {},
   "source": [
    "## Merge Dataframes \n",
    "\n",
    "- Drop \"marital\" \n",
    "- Fill missing values as -1 "
   ]
  },
  {
   "cell_type": "code",
   "execution_count": 10,
   "id": "169ff7f0",
   "metadata": {},
   "outputs": [],
   "source": [
    "dfs = []\n",
    "for tempdf in raw_dfs :\n",
    "    tempdf = tempdf.drop([tempdf.columns[0],\"marital\"], axis=1)\n",
    "    #tempdf[\"work1\"] = tempdf[\"work1\"].fillna(value=0.0)\n",
    "    #tempdf = tempdf.dropna()\n",
    "    tempdf = tempdf.set_index(\"id\")\n",
    "    dfs.append(tempdf)\n",
    "df_merge = pd.concat(dfs, axis=1, join=\"outer\")\n",
    "df_merge = df_merge.fillna(value=-1.0)"
   ]
  },
  {
   "cell_type": "code",
   "execution_count": 11,
   "id": "c3310fa3",
   "metadata": {},
   "outputs": [
    {
     "data": {
      "text/html": [
       "<div>\n",
       "<style scoped>\n",
       "    .dataframe tbody tr th:only-of-type {\n",
       "        vertical-align: middle;\n",
       "    }\n",
       "\n",
       "    .dataframe tbody tr th {\n",
       "        vertical-align: top;\n",
       "    }\n",
       "\n",
       "    .dataframe thead th {\n",
       "        text-align: right;\n",
       "    }\n",
       "</style>\n",
       "<table border=\"1\" class=\"dataframe\">\n",
       "  <thead>\n",
       "    <tr style=\"text-align: right;\">\n",
       "      <th></th>\n",
       "      <th>mcc</th>\n",
       "      <th>status</th>\n",
       "      <th>cardio</th>\n",
       "      <th>hyperlipidemia</th>\n",
       "      <th>thyroid</th>\n",
       "      <th>nerv</th>\n",
       "      <th>streoid</th>\n",
       "      <th>hormone</th>\n",
       "      <th>painmed</th>\n",
       "      <th>sleep</th>\n",
       "      <th>...</th>\n",
       "      <th>migraine</th>\n",
       "      <th>fracture</th>\n",
       "      <th>work1</th>\n",
       "      <th>pss</th>\n",
       "      <th>depress.score</th>\n",
       "      <th>age</th>\n",
       "      <th>race</th>\n",
       "      <th>income</th>\n",
       "      <th>sleeph</th>\n",
       "      <th>lifeevent</th>\n",
       "    </tr>\n",
       "    <tr>\n",
       "      <th>id</th>\n",
       "      <th></th>\n",
       "      <th></th>\n",
       "      <th></th>\n",
       "      <th></th>\n",
       "      <th></th>\n",
       "      <th></th>\n",
       "      <th></th>\n",
       "      <th></th>\n",
       "      <th></th>\n",
       "      <th></th>\n",
       "      <th></th>\n",
       "      <th></th>\n",
       "      <th></th>\n",
       "      <th></th>\n",
       "      <th></th>\n",
       "      <th></th>\n",
       "      <th></th>\n",
       "      <th></th>\n",
       "      <th></th>\n",
       "      <th></th>\n",
       "      <th></th>\n",
       "    </tr>\n",
       "  </thead>\n",
       "  <tbody>\n",
       "    <tr>\n",
       "      <th>10046</th>\n",
       "      <td>0.0</td>\n",
       "      <td>0.0</td>\n",
       "      <td>0.0</td>\n",
       "      <td>0.0</td>\n",
       "      <td>False</td>\n",
       "      <td>0.0</td>\n",
       "      <td>0.0</td>\n",
       "      <td>False</td>\n",
       "      <td>0.0</td>\n",
       "      <td>0.0</td>\n",
       "      <td>...</td>\n",
       "      <td>0.0</td>\n",
       "      <td>0.0</td>\n",
       "      <td>-1.0</td>\n",
       "      <td>0.0</td>\n",
       "      <td>6.0</td>\n",
       "      <td>62.0</td>\n",
       "      <td>2.0</td>\n",
       "      <td>4.0</td>\n",
       "      <td>4.000000</td>\n",
       "      <td>1.0</td>\n",
       "    </tr>\n",
       "    <tr>\n",
       "      <th>10056</th>\n",
       "      <td>0.0</td>\n",
       "      <td>3.0</td>\n",
       "      <td>0.0</td>\n",
       "      <td>0.0</td>\n",
       "      <td>False</td>\n",
       "      <td>0.0</td>\n",
       "      <td>0.0</td>\n",
       "      <td>False</td>\n",
       "      <td>0.0</td>\n",
       "      <td>0.0</td>\n",
       "      <td>...</td>\n",
       "      <td>0.0</td>\n",
       "      <td>0.0</td>\n",
       "      <td>-1.0</td>\n",
       "      <td>2.0</td>\n",
       "      <td>0.0</td>\n",
       "      <td>61.0</td>\n",
       "      <td>1.0</td>\n",
       "      <td>-1.0</td>\n",
       "      <td>0.666667</td>\n",
       "      <td>1.0</td>\n",
       "    </tr>\n",
       "    <tr>\n",
       "      <th>10092</th>\n",
       "      <td>0.0</td>\n",
       "      <td>3.0</td>\n",
       "      <td>0.0</td>\n",
       "      <td>0.0</td>\n",
       "      <td>False</td>\n",
       "      <td>0.0</td>\n",
       "      <td>0.0</td>\n",
       "      <td>False</td>\n",
       "      <td>0.0</td>\n",
       "      <td>0.0</td>\n",
       "      <td>...</td>\n",
       "      <td>-1.0</td>\n",
       "      <td>-1.0</td>\n",
       "      <td>-1.0</td>\n",
       "      <td>-1.0</td>\n",
       "      <td>-1.0</td>\n",
       "      <td>-1.0</td>\n",
       "      <td>-1.0</td>\n",
       "      <td>-1.0</td>\n",
       "      <td>-1.000000</td>\n",
       "      <td>-1.0</td>\n",
       "    </tr>\n",
       "    <tr>\n",
       "      <th>10126</th>\n",
       "      <td>0.0</td>\n",
       "      <td>3.0</td>\n",
       "      <td>0.0</td>\n",
       "      <td>1.0</td>\n",
       "      <td>False</td>\n",
       "      <td>0.0</td>\n",
       "      <td>0.0</td>\n",
       "      <td>False</td>\n",
       "      <td>0.0</td>\n",
       "      <td>0.0</td>\n",
       "      <td>...</td>\n",
       "      <td>-1.0</td>\n",
       "      <td>-1.0</td>\n",
       "      <td>-1.0</td>\n",
       "      <td>-1.0</td>\n",
       "      <td>-1.0</td>\n",
       "      <td>-1.0</td>\n",
       "      <td>-1.0</td>\n",
       "      <td>-1.0</td>\n",
       "      <td>-1.000000</td>\n",
       "      <td>-1.0</td>\n",
       "    </tr>\n",
       "    <tr>\n",
       "      <th>10153</th>\n",
       "      <td>2.0</td>\n",
       "      <td>3.0</td>\n",
       "      <td>0.0</td>\n",
       "      <td>0.0</td>\n",
       "      <td>False</td>\n",
       "      <td>0.0</td>\n",
       "      <td>0.0</td>\n",
       "      <td>False</td>\n",
       "      <td>0.0</td>\n",
       "      <td>0.0</td>\n",
       "      <td>...</td>\n",
       "      <td>0.0</td>\n",
       "      <td>0.0</td>\n",
       "      <td>-1.0</td>\n",
       "      <td>0.0</td>\n",
       "      <td>0.0</td>\n",
       "      <td>61.0</td>\n",
       "      <td>2.0</td>\n",
       "      <td>4.0</td>\n",
       "      <td>1.666667</td>\n",
       "      <td>1.0</td>\n",
       "    </tr>\n",
       "  </tbody>\n",
       "</table>\n",
       "<p>5 rows × 220 columns</p>\n",
       "</div>"
      ],
      "text/plain": [
       "       mcc  status  cardio  hyperlipidemia thyroid  nerv  streoid hormone  \\\n",
       "id                                                                          \n",
       "10046  0.0     0.0     0.0             0.0   False   0.0      0.0   False   \n",
       "10056  0.0     3.0     0.0             0.0   False   0.0      0.0   False   \n",
       "10092  0.0     3.0     0.0             0.0   False   0.0      0.0   False   \n",
       "10126  0.0     3.0     0.0             1.0   False   0.0      0.0   False   \n",
       "10153  2.0     3.0     0.0             0.0   False   0.0      0.0   False   \n",
       "\n",
       "       painmed  sleep  ...  migraine  fracture  work1  pss  depress.score  \\\n",
       "id                     ...                                                  \n",
       "10046      0.0    0.0  ...       0.0       0.0   -1.0  0.0            6.0   \n",
       "10056      0.0    0.0  ...       0.0       0.0   -1.0  2.0            0.0   \n",
       "10092      0.0    0.0  ...      -1.0      -1.0   -1.0 -1.0           -1.0   \n",
       "10126      0.0    0.0  ...      -1.0      -1.0   -1.0 -1.0           -1.0   \n",
       "10153      0.0    0.0  ...       0.0       0.0   -1.0  0.0            0.0   \n",
       "\n",
       "        age  race  income    sleeph  lifeevent  \n",
       "id                                              \n",
       "10046  62.0   2.0     4.0  4.000000        1.0  \n",
       "10056  61.0   1.0    -1.0  0.666667        1.0  \n",
       "10092  -1.0  -1.0    -1.0 -1.000000       -1.0  \n",
       "10126  -1.0  -1.0    -1.0 -1.000000       -1.0  \n",
       "10153  61.0   2.0     4.0  1.666667        1.0  \n",
       "\n",
       "[5 rows x 220 columns]"
      ]
     },
     "execution_count": 11,
     "metadata": {},
     "output_type": "execute_result"
    }
   ],
   "source": [
    "df_merge.head()\n",
    "#df1.join(df2, on=\"id\", how=\"outer\")"
   ]
  },
  {
   "cell_type": "code",
   "execution_count": 15,
   "id": "3e77e04f",
   "metadata": {},
   "outputs": [
    {
     "data": {
      "text/plain": [
       "mcc    0.0\n",
       "mcc    0.0\n",
       "mcc   -1.0\n",
       "mcc   -1.0\n",
       "mcc   -1.0\n",
       "Name: 13415, dtype: object"
      ]
     },
     "execution_count": 15,
     "metadata": {},
     "output_type": "execute_result"
    }
   ],
   "source": [
    "df_merge.iloc[100, [0, 22, 44, 66, 88]]\n",
    "# (0, 0, -1, -1, -1)"
   ]
  },
  {
   "cell_type": "markdown",
   "id": "12e2a379",
   "metadata": {},
   "source": [
    "### Processing & Adding Y_{<t} as feature"
   ]
  },
  {
   "cell_type": "code",
   "execution_count": 23,
   "id": "950302bd",
   "metadata": {},
   "outputs": [
    {
     "name": "stdout",
     "output_type": "stream",
     "text": [
      "Current Shape: (3095, 220)\n"
     ]
    }
   ],
   "source": [
    "preprocessed = df_merge.values\n",
    "print(\"Current Shape:\", preprocessed.shape)\n",
    "np.save(\"SWAN_pro\", preprocessed)"
   ]
  },
  {
   "cell_type": "code",
   "execution_count": 24,
   "id": "3178d3c2",
   "metadata": {},
   "outputs": [
    {
     "name": "stdout",
     "output_type": "stream",
     "text": [
      "Should be (N,10): (3095, 10)\n"
     ]
    }
   ],
   "source": [
    "mcc = 22 * np.asarray([0,1,2,3,4,5,6,7,8,9])\n",
    "Y = preprocessed[:, mcc]\n",
    "print(\"Should be (N,10):\", Y.shape)"
   ]
  },
  {
   "cell_type": "code",
   "execution_count": 25,
   "id": "fc1b1487",
   "metadata": {},
   "outputs": [
    {
     "data": {
      "text/plain": [
       "array([0.0, 0.0, 0.0, 0.0, 0.0, 0.0, -1.0, -1.0, -1.0, -1.0], dtype=object)"
      ]
     },
     "execution_count": 25,
     "metadata": {},
     "output_type": "execute_result"
    }
   ],
   "source": [
    "Y[3] # 0, 0, 0, 0, 0, 0, -1, -1, -1, -1 "
   ]
  },
  {
   "cell_type": "code",
   "execution_count": 27,
   "id": "482ec751",
   "metadata": {},
   "outputs": [],
   "source": [
    "# Shift MCC (-1, 0, 1, 2) -> (0, 1, 2, 3)\n",
    "Y = Y + 1"
   ]
  },
  {
   "cell_type": "code",
   "execution_count": 28,
   "id": "392ca4e2",
   "metadata": {},
   "outputs": [
    {
     "data": {
      "text/plain": [
       "array([1.0, 1.0, 1.0, 1.0, 1.0, 1.0, 0.0, 0.0, 0.0, 0.0], dtype=object)"
      ]
     },
     "execution_count": 28,
     "metadata": {},
     "output_type": "execute_result"
    }
   ],
   "source": [
    "Y[3]"
   ]
  },
  {
   "cell_type": "code",
   "execution_count": 29,
   "id": "868162d6",
   "metadata": {},
   "outputs": [],
   "source": [
    "idx = [x for x in range(220)]\n",
    "for p in mcc : \n",
    "    idx.remove(p)"
   ]
  },
  {
   "cell_type": "code",
   "execution_count": 37,
   "id": "60b727a8",
   "metadata": {},
   "outputs": [
    {
     "name": "stdout",
     "output_type": "stream",
     "text": [
      "(3095, 210)\n",
      "N, T, F num: (3095, 10, 21)\n"
     ]
    }
   ],
   "source": [
    "X = preprocessed[:, idx]\n",
    "print(X.shape)\n",
    "q = np.reshape(X, (X.shape[0], 10, 21))\n",
    "print(\"N, T, F num:\",q.shape)"
   ]
  },
  {
   "cell_type": "code",
   "execution_count": 40,
   "id": "ee92ddc1",
   "metadata": {},
   "outputs": [],
   "source": [
    "auxY = np.ones((Y.shape[0],1)) * 0 # For t = 1 padding \n",
    "conY = np.hstack((auxY, Y)) \n",
    "stY = conY[:, :10] # Erase t = 10 (last snapshot)"
   ]
  },
  {
   "cell_type": "code",
   "execution_count": 42,
   "id": "c996c4ea",
   "metadata": {},
   "outputs": [
    {
     "name": "stdout",
     "output_type": "stream",
     "text": [
      "(3095, 10)\n",
      "(3095, 10, 22)\n"
     ]
    }
   ],
   "source": [
    "#stY = stY[:, :, np.newaxis]\n",
    "print(stY.shape)\n",
    "pp = np.dstack((q, stY))\n",
    "print(pp.shape)"
   ]
  },
  {
   "cell_type": "code",
   "execution_count": 43,
   "id": "37548c83",
   "metadata": {},
   "outputs": [],
   "source": [
    "# Convert pp type to float \n",
    "\n",
    "pp = pp.astype(np.float64)"
   ]
  },
  {
   "cell_type": "code",
   "execution_count": 47,
   "id": "4941d897",
   "metadata": {
    "scrolled": true
   },
   "outputs": [
    {
     "data": {
      "text/plain": [
       "array([[ 0.        ,  0.        ,  0.        ,  0.        ,  0.        ,\n",
       "         0.        ,  0.        ,  0.        ,  0.        ,  0.        ,\n",
       "         0.        ,  0.        ,  0.        , -1.        , -1.        ,\n",
       "         5.        , 53.        ,  2.        ,  2.        ,  2.33333333,\n",
       "         1.05555556,  0.        ],\n",
       "       [ 0.        ,  0.        ,  0.        ,  0.        ,  0.        ,\n",
       "         0.        ,  0.        ,  0.        ,  0.        ,  0.        ,\n",
       "         0.        ,  0.        ,  0.        ,  2.        ,  4.        ,\n",
       "         6.        , 54.        ,  2.        ,  3.        ,  3.66666667,\n",
       "         1.61111111,  1.        ]])"
      ]
     },
     "execution_count": 47,
     "metadata": {},
     "output_type": "execute_result"
    }
   ],
   "source": [
    "pp[0, :2, :]"
   ]
  },
  {
   "cell_type": "code",
   "execution_count": 48,
   "id": "6745bcba",
   "metadata": {},
   "outputs": [],
   "source": [
    "# Convert Y type to float \n",
    "\n",
    "Y = Y.astype(np.float64)"
   ]
  },
  {
   "cell_type": "markdown",
   "id": "03b61e81",
   "metadata": {},
   "source": [
    "### Train / Test data split "
   ]
  },
  {
   "cell_type": "code",
   "execution_count": 49,
   "id": "049f9fe8",
   "metadata": {},
   "outputs": [],
   "source": [
    "from sklearn.model_selection import train_test_split"
   ]
  },
  {
   "cell_type": "code",
   "execution_count": 50,
   "id": "efcc2799",
   "metadata": {},
   "outputs": [],
   "source": [
    "from sklearn.model_selection import train_test_split\n",
    "\n",
    "#data, labels = np.arange(10).reshape((5, 2)), range(5)\n",
    "\n",
    "data_train, data_test, labels_train, labels_test = train_test_split(pp, Y, test_size=0.20, random_state=42)"
   ]
  },
  {
   "cell_type": "code",
   "execution_count": 401,
   "id": "655672d4",
   "metadata": {},
   "outputs": [
    {
     "data": {
      "text/plain": [
       "(2476, 10, 22)"
      ]
     },
     "execution_count": 401,
     "metadata": {},
     "output_type": "execute_result"
    }
   ],
   "source": [
    "data_train.shape\n",
    "#labels_train.shape"
   ]
  },
  {
   "cell_type": "code",
   "execution_count": 402,
   "id": "9eefbf18",
   "metadata": {},
   "outputs": [],
   "source": [
    "np.save(\"SWAN_train_X\", data_train)\n",
    "np.save(\"SWAN_test_X\", data_test)\n",
    "np.save(\"SWAN_train_Y\", labels_train)\n",
    "np.save(\"SWAN_test_Y\", labels_test)"
   ]
  },
  {
   "cell_type": "code",
   "execution_count": 409,
   "id": "1792a011",
   "metadata": {},
   "outputs": [
    {
     "data": {
      "text/plain": [
       "(2476, 10, 22)"
      ]
     },
     "execution_count": 409,
     "metadata": {},
     "output_type": "execute_result"
    }
   ],
   "source": [
    "data_train.shape"
   ]
  },
  {
   "cell_type": "code",
   "execution_count": null,
   "id": "d2935770",
   "metadata": {},
   "outputs": [],
   "source": []
  },
  {
   "cell_type": "code",
   "execution_count": 453,
   "id": "a9f1e2d9",
   "metadata": {},
   "outputs": [
    {
     "data": {
      "text/plain": [
       "(2476, 10)"
      ]
     },
     "execution_count": 453,
     "metadata": {},
     "output_type": "execute_result"
    }
   ],
   "source": [
    "labels_train.shape"
   ]
  },
  {
   "cell_type": "markdown",
   "id": "36a6fb51",
   "metadata": {},
   "source": [
    "# Random Forest (Baseline)"
   ]
  },
  {
   "cell_type": "code",
   "execution_count": 55,
   "id": "389c9b30",
   "metadata": {},
   "outputs": [],
   "source": [
    "mask = np.zeros((1,10,220), dtype=np.int32)"
   ]
  },
  {
   "cell_type": "code",
   "execution_count": 56,
   "id": "38a4fd20",
   "metadata": {},
   "outputs": [],
   "source": [
    "for t in range(10):\n",
    "    mask[:, t, 0:22*(t+1)] = 1"
   ]
  },
  {
   "cell_type": "code",
   "execution_count": 57,
   "id": "68612582",
   "metadata": {},
   "outputs": [
    {
     "data": {
      "text/plain": [
       "array([[[0, 0, 0, ..., 1, 1, 1],\n",
       "        [0, 0, 0, ..., 1, 1, 1],\n",
       "        [0, 0, 0, ..., 1, 1, 1],\n",
       "        ...,\n",
       "        [0, 0, 0, ..., 1, 1, 1],\n",
       "        [0, 0, 0, ..., 1, 1, 1],\n",
       "        [0, 0, 0, ..., 0, 0, 0]]])"
      ]
     },
     "execution_count": 57,
     "metadata": {},
     "output_type": "execute_result"
    }
   ],
   "source": [
    "mask = np.ones((1,10,220), dtype=np.int32) - mask\n",
    "mask "
   ]
  },
  {
   "cell_type": "code",
   "execution_count": 75,
   "id": "79a8d84c",
   "metadata": {},
   "outputs": [
    {
     "data": {
      "text/plain": [
       "array([[0, 0, 0, 0, 0, 0, 0, 0, 0, 0, 0, 0, 0, 0, 0, 0, 0, 0, 0, 0, 0, 0,\n",
       "        1, 1, 1, 1, 1, 1, 1, 1, 1, 1, 1, 1, 1, 1, 1, 1, 1, 1, 1, 1, 1, 1,\n",
       "        1, 1, 1, 1, 1, 1, 1, 1, 1, 1, 1, 1, 1, 1, 1, 1, 1, 1, 1, 1, 1, 1,\n",
       "        1, 1, 1, 1, 1, 1, 1, 1, 1, 1, 1, 1, 1, 1, 1, 1, 1, 1, 1, 1, 1, 1,\n",
       "        1, 1, 1, 1, 1, 1, 1, 1, 1, 1, 1, 1, 1, 1, 1, 1, 1, 1, 1, 1, 1, 1,\n",
       "        1, 1, 1, 1, 1, 1, 1, 1, 1, 1, 1, 1, 1, 1, 1, 1, 1, 1, 1, 1, 1, 1,\n",
       "        1, 1, 1, 1, 1, 1, 1, 1, 1, 1, 1, 1, 1, 1, 1, 1, 1, 1, 1, 1, 1, 1,\n",
       "        1, 1, 1, 1, 1, 1, 1, 1, 1, 1, 1, 1, 1, 1, 1, 1, 1, 1, 1, 1, 1, 1,\n",
       "        1, 1, 1, 1, 1, 1, 1, 1, 1, 1, 1, 1, 1, 1, 1, 1, 1, 1, 1, 1, 1, 1,\n",
       "        1, 1, 1, 1, 1, 1, 1, 1, 1, 1, 1, 1, 1, 1, 1, 1, 1, 1, 1, 1, 1, 1]])"
      ]
     },
     "execution_count": 75,
     "metadata": {},
     "output_type": "execute_result"
    }
   ],
   "source": [
    "mask[:,0,:]"
   ]
  },
  {
   "cell_type": "code",
   "execution_count": 61,
   "id": "55fbb227",
   "metadata": {},
   "outputs": [
    {
     "data": {
      "text/plain": [
       "array([[198, 176, 154, 132, 110,  88,  66,  44,  22,   0]])"
      ]
     },
     "execution_count": 61,
     "metadata": {},
     "output_type": "execute_result"
    }
   ],
   "source": [
    "np.sum(mask, axis=2) # should be 198, 176, 154 ,..., 0 Num of unobservable data "
   ]
  },
  {
   "cell_type": "code",
   "execution_count": 62,
   "id": "1ce2bdb0",
   "metadata": {},
   "outputs": [],
   "source": [
    "def lstm2base(X):\n",
    "    \"\"\"\n",
    "    Changes lstm train data to RF data\n",
    "\n",
    "    \"\"\"\n",
    "    # mask: if indexed (1), then turns into NA. \n",
    "    # For t step, only 22(F) * t features are observable\n",
    "    N, T, F = X.shape\n",
    "    X = np.reshape(X, (N, 1, F*T))\n",
    "     X = np.repeat(X, repeats = 10, axis=1)\n",
    "\n",
    "    mask = np.zeros((1,10,220), dtype=np.int32)\n",
    "    for t in range(10):\n",
    "        mask[:, t, 0:22*(t+1)] = 1\n",
    "    #np.sum(mask, axis=2)\n",
    "    mask = np.ones((1,10,220), dtype=np.int32) - mask\n",
    "    mask = np.repeat(mask, repeats = N, axis = 0)\n",
    "    \n",
    "    X[mask] = -1\n",
    "    return X\n",
    "    "
   ]
  },
  {
   "cell_type": "code",
   "execution_count": 63,
   "id": "2d6fd74c",
   "metadata": {},
   "outputs": [],
   "source": [
    "base_train = lstm2base(data_train)\n",
    "base_test = lstm2base(data_test)"
   ]
  },
  {
   "cell_type": "code",
   "execution_count": 64,
   "id": "eb7d2f46",
   "metadata": {},
   "outputs": [
    {
     "data": {
      "text/plain": [
       "(619, 10, 220)"
      ]
     },
     "execution_count": 64,
     "metadata": {},
     "output_type": "execute_result"
    }
   ],
   "source": [
    "base_train.shape\n",
    "base_test.shape"
   ]
  },
  {
   "cell_type": "code",
   "execution_count": null,
   "id": "7733c250",
   "metadata": {},
   "outputs": [],
   "source": []
  },
  {
   "cell_type": "code",
   "execution_count": 65,
   "id": "f778b682",
   "metadata": {},
   "outputs": [],
   "source": [
    "from sklearn.ensemble import RandomForestClassifier"
   ]
  },
  {
   "cell_type": "code",
   "execution_count": 66,
   "id": "a2f0e49a",
   "metadata": {},
   "outputs": [],
   "source": [
    "clf = RandomForestClassifier(max_depth=100, random_state=42)"
   ]
  },
  {
   "cell_type": "code",
   "execution_count": 67,
   "id": "a4b4cde4",
   "metadata": {},
   "outputs": [
    {
     "name": "stderr",
     "output_type": "stream",
     "text": [
      "C:\\Users\\user\\AppData\\Local\\Temp\\ipykernel_36888\\1949448408.py:1: DataConversionWarning: A column-vector y was passed when a 1d array was expected. Please change the shape of y to (n_samples,), for example using ravel().\n",
      "  clf.fit(base_train.reshape((2476*10,-1)), labels_train.reshape((2476*10,-1)))\n"
     ]
    },
    {
     "data": {
      "text/plain": [
       "RandomForestClassifier(max_depth=100, random_state=42)"
      ]
     },
     "execution_count": 67,
     "metadata": {},
     "output_type": "execute_result"
    }
   ],
   "source": [
    "clf.fit(base_train.reshape((2476*10,-1)), labels_train.reshape((2476*10,-1)))"
   ]
  },
  {
   "cell_type": "code",
   "execution_count": 68,
   "id": "bf6d8cd3",
   "metadata": {},
   "outputs": [],
   "source": [
    "y_test_predict = clf.predict(base_test.reshape((619*10,-1)))"
   ]
  },
  {
   "cell_type": "code",
   "execution_count": 465,
   "id": "96c174ba",
   "metadata": {},
   "outputs": [
    {
     "data": {
      "text/plain": [
       "(6190,)"
      ]
     },
     "execution_count": 465,
     "metadata": {},
     "output_type": "execute_result"
    }
   ],
   "source": [
    "y_test_predict.shape"
   ]
  },
  {
   "cell_type": "code",
   "execution_count": 69,
   "id": "74813194",
   "metadata": {},
   "outputs": [],
   "source": [
    "y =  labels_test.reshape((619*10,-1))\n",
    "tag_pad_idx=0.0\n",
    "non_pad_elements, bb = (y != tag_pad_idx).nonzero()"
   ]
  },
  {
   "cell_type": "code",
   "execution_count": 469,
   "id": "aa6d8375",
   "metadata": {},
   "outputs": [
    {
     "data": {
      "text/plain": [
       "(4557,)"
      ]
     },
     "execution_count": 469,
     "metadata": {},
     "output_type": "execute_result"
    }
   ],
   "source": [
    "non_pad_elements[0].shape"
   ]
  },
  {
   "cell_type": "code",
   "execution_count": 472,
   "id": "b9e0e41e",
   "metadata": {},
   "outputs": [
    {
     "data": {
      "text/plain": [
       "0"
      ]
     },
     "execution_count": 472,
     "metadata": {},
     "output_type": "execute_result"
    }
   ],
   "source": [
    "bb.sum()"
   ]
  },
  {
   "cell_type": "code",
   "execution_count": 70,
   "id": "2ad670b2",
   "metadata": {},
   "outputs": [
    {
     "data": {
      "text/plain": [
       "0.7763879745446566"
      ]
     },
     "execution_count": 70,
     "metadata": {},
     "output_type": "execute_result"
    }
   ],
   "source": [
    "from sklearn.metrics import accuracy_score\n",
    "\n",
    "accuracy_score(y[non_pad_elements], y_test_predict[non_pad_elements])"
   ]
  },
  {
   "cell_type": "code",
   "execution_count": 476,
   "id": "3da01e9e",
   "metadata": {},
   "outputs": [],
   "source": [
    "def categorical_accuracy(preds, y, tag_pad_idx=0.0):\n",
    "    \"\"\"\n",
    "    Returns accuracy per batch, i.e. if you get 8/10 right, this returns 0.8, NOT 8\n",
    "    \"\"\"\n",
    "    #max_preds = preds.argmax(dim = 1, keepdim = True) # get the index of the max probability\n",
    "    max_preds = preds.reshape((-1,1))\n",
    "    print(max_preds.shape)\n",
    "    non_pad_elements = (y != tag_pad_idx).nonzero()\n",
    "    correct = max_preds[non_pad_elements].squeeze(1).eq(y[non_pad_elements])\n",
    "    return correct.sum() / y[non_pad_elements].shape[0]\n"
   ]
  },
  {
   "cell_type": "code",
   "execution_count": null,
   "id": "24b19e4f",
   "metadata": {},
   "outputs": [],
   "source": []
  }
 ],
 "metadata": {
  "kernelspec": {
   "display_name": "ATVI",
   "language": "python",
   "name": "nf"
  },
  "language_info": {
   "codemirror_mode": {
    "name": "ipython",
    "version": 3
   },
   "file_extension": ".py",
   "mimetype": "text/x-python",
   "name": "python",
   "nbconvert_exporter": "python",
   "pygments_lexer": "ipython3",
   "version": "3.9.7"
  }
 },
 "nbformat": 4,
 "nbformat_minor": 5
}
