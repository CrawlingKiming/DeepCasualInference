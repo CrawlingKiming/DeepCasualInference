{
 "cells": [
  {
   "cell_type": "code",
   "execution_count": 49,
   "id": "0c17434d",
   "metadata": {},
   "outputs": [
    {
     "data": {
      "text/plain": [
       "'\\nparser = argparse.ArgumentParser()\\n\\n# data params\\nparser.add_argument(\\'--dataset\\', type=str, default=\"SWAN\")\\n\\n# Model params\\nparser.add_argument(\\'--hidden_units\\', type=eval, default=[100,100,100]) # Controls MLP Hidden nodes\\nparser.add_argument(\\'--model\\', type=str, default=\\'SWAN_LSTM\\', choices={\\'MLP\\', \\'RNN\\', \"RNN_FULL\", \"SWAN_LSTM\"})\\nparser.add_argument(\\'--activation\\', type=str, default=\\'gelu\\', choices={\\'relu\\', \\'elu\\', \\'gelu\\'})\\n#parser.add_argument(\\'--range_flow\\', type=str, default=\\'logit\\', choices={\\'logit\\', \\'softplus\\'})\\nparser.add_argument(\\'--log_transform\\', type=eval, default=False)\\n\\n# Train params\\nparser.add_argument(\\'--epochs\\', type=int, default=50)\\nparser.add_argument(\\'--batch_size\\', type=int, default=16)\\nparser.add_argument(\\'--optimizer\\', type=str, default=\\'adam\\', choices={\\'adam\\', \\'adamax\\'})\\nparser.add_argument(\\'--lr\\', type=float, default=1e-3)\\nparser.add_argument(\\'--device\\', type=str, default=\\'cpu\\')\\n'"
      ]
     },
     "execution_count": 49,
     "metadata": {},
     "output_type": "execute_result"
    }
   ],
   "source": [
    "import torch\n",
    "import numpy as np\n",
    "\n",
    "from utils import npmse\n",
    "import os\n",
    "import argparse\n",
    "\n",
    "# Optimizer\n",
    "from torch.optim import Adam, Adamax\n",
    "\n",
    "# Custom modules\n",
    "import dataloading\n",
    "import model_class\n",
    "\n",
    "# metric \n",
    "from sklearn.metrics import accuracy_score\n",
    "\n",
    "import matplotlib.pyplot as plt  \n",
    "\"\"\"\n",
    "parser = argparse.ArgumentParser()\n",
    "\n",
    "# data params\n",
    "parser.add_argument('--dataset', type=str, default=\"SWAN\")\n",
    "\n",
    "# Model params\n",
    "parser.add_argument('--hidden_units', type=eval, default=[100,100,100]) # Controls MLP Hidden nodes\n",
    "parser.add_argument('--model', type=str, default='SWAN_LSTM', choices={'MLP', 'RNN', \"RNN_FULL\", \"SWAN_LSTM\"})\n",
    "parser.add_argument('--activation', type=str, default='gelu', choices={'relu', 'elu', 'gelu'})\n",
    "#parser.add_argument('--range_flow', type=str, default='logit', choices={'logit', 'softplus'})\n",
    "parser.add_argument('--log_transform', type=eval, default=False)\n",
    "\n",
    "# Train params\n",
    "parser.add_argument('--epochs', type=int, default=50)\n",
    "parser.add_argument('--batch_size', type=int, default=16)\n",
    "parser.add_argument('--optimizer', type=str, default='adam', choices={'adam', 'adamax'})\n",
    "parser.add_argument('--lr', type=float, default=1e-3)\n",
    "parser.add_argument('--device', type=str, default='cpu')\n",
    "\"\"\""
   ]
  },
  {
   "cell_type": "code",
   "execution_count": 339,
   "id": "127ac1ef",
   "metadata": {},
   "outputs": [],
   "source": [
    "class Args:\n",
    "  \"\"\"\n",
    "  For jupyter notebook, we should specify args parameters manually \n",
    "  \"\"\"  \n",
    "    \n",
    "  dataset = \"SWAN\"\n",
    "  hidden_units = [100,100]\n",
    "  model = 'SWAN_LSTM'\n",
    "  activation = 'gelu'\n",
    "  device = 'cpu'\n",
    "  batch_size = 16\n",
    "  optimizer = 'adam'\n",
    "  lr = 1e-3 \n",
    "\n",
    "args=Args()"
   ]
  },
  {
   "cell_type": "code",
   "execution_count": 340,
   "id": "8ec09686",
   "metadata": {},
   "outputs": [
    {
     "name": "stdout",
     "output_type": "stream",
     "text": [
      "Fetching SWAN dataset\n",
      "Training...\n"
     ]
    }
   ],
   "source": [
    "# Set your device\n",
    "args.device = torch.device('cuda:{}'.format(0))\n",
    "\n",
    "# First load datasets\n",
    "train_loader, test_loader = dataloading.fetch_dataset(args)\n",
    "\n",
    "# load models\n",
    "\n",
    "#model = model_class.MLP(16, 1, args.hidden_units)\n",
    "#model = model_class.RNN(hidden_units=args.hidden_units)\n",
    "model = model_class.model_fetcher(args)\n",
    "model = model.double()\n",
    "\n",
    "if args.optimizer == 'adam':\n",
    "    optimizer = Adam(model.parameters(), lr=args.lr)\n",
    "elif args.optimizer == 'adamax':\n",
    "    optimizer = Adamax(model.parameters(), lr=args.lr)\n",
    "\n",
    "print('Training...')\n",
    "ce = torch.nn.CrossEntropyLoss(ignore_index=0)"
   ]
  },
  {
   "cell_type": "code",
   "execution_count": 341,
   "id": "4708bec3",
   "metadata": {},
   "outputs": [
    {
     "data": {
      "text/plain": [
       "<All keys matched successfully>"
      ]
     },
     "execution_count": 341,
     "metadata": {},
     "output_type": "execute_result"
    }
   ],
   "source": [
    "checkpoint = torch.load(\"./results/models/checkpoint_SWAN_LSTM_scale2_epoch99.pt\")\n",
    "model.load_state_dict(checkpoint['state_dict'])"
   ]
  },
  {
   "cell_type": "code",
   "execution_count": 342,
   "id": "325fea97",
   "metadata": {},
   "outputs": [],
   "source": [
    "test_X = np.load(\"./data/SWAN_test_X.npy\", allow_pickle=True)\n",
    "train_X = np.load(\"./data/SWAN_train_X.npy\", allow_pickle=True)\n",
    "train_Y = np.load(\"./data/SWAN_train_Y.npy\", allow_pickle=True)\n",
    "test_Y = np.load(\"./data/SWAN_test_Y.npy\", allow_pickle=True)\n",
    "\n",
    "train_tensor_x = torch.tensor(train_X)\n",
    "train_tensor_y = torch.tensor(train_Y, dtype=torch.long)\n",
    "\n",
    "test_tensor_y = torch.tensor(test_Y, dtype=torch.long)\n",
    "test_tensor_x = torch.tensor(test_X)"
   ]
  },
  {
   "cell_type": "code",
   "execution_count": 343,
   "id": "0d7da9e0",
   "metadata": {},
   "outputs": [
    {
     "name": "stdout",
     "output_type": "stream",
     "text": [
      "Model Test output: torch.Size([619, 10, 4])\n"
     ]
    },
    {
     "name": "stderr",
     "output_type": "stream",
     "text": [
      "C:\\Users\\user\\Documents\\GitHub\\DeepCasualInference\\model_class.py:70: UserWarning: Implicit dimension choice for softmax has been deprecated. Change the call to include dim=X as an argument.\n",
      "  result = self.softmax(out)\n"
     ]
    }
   ],
   "source": [
    "# Get predicted Value \n",
    "pred = model(test_tensor_x)\n",
    "print(\"Model Test output:\", pred.shape)"
   ]
  },
  {
   "cell_type": "code",
   "execution_count": 344,
   "id": "6a9cb599",
   "metadata": {},
   "outputs": [],
   "source": [
    "tag_pad_idx = 0.0 # This becomes the ignoring idx.. (pad idx)\n",
    "test_tensor_y = test_tensor_y.view(-1)\n",
    "pred = pred.view(-1, 4)"
   ]
  },
  {
   "cell_type": "code",
   "execution_count": 345,
   "id": "c21fd7b8",
   "metadata": {},
   "outputs": [
    {
     "data": {
      "text/plain": [
       "torch.Size([1223])"
      ]
     },
     "execution_count": 345,
     "metadata": {},
     "output_type": "execute_result"
    }
   ],
   "source": [
    "test_tensor_y[test_tensor_y==3].shape"
   ]
  },
  {
   "cell_type": "markdown",
   "id": "f4ec5da4",
   "metadata": {},
   "source": [
    "# Evaluating using Metric "
   ]
  },
  {
   "cell_type": "code",
   "execution_count": 346,
   "id": "0330defe",
   "metadata": {},
   "outputs": [],
   "source": [
    "pred = pred.detach().cpu().numpy()\n",
    "test_y = test_tensor_y.cpu().detach().numpy()"
   ]
  },
  {
   "cell_type": "code",
   "execution_count": 347,
   "id": "d7beddca",
   "metadata": {},
   "outputs": [
    {
     "data": {
      "text/plain": [
       "(6190, 4)"
      ]
     },
     "execution_count": 347,
     "metadata": {},
     "output_type": "execute_result"
    }
   ],
   "source": [
    "pred.shape"
   ]
  },
  {
   "cell_type": "code",
   "execution_count": 348,
   "id": "e0154f77",
   "metadata": {},
   "outputs": [],
   "source": [
    "tag_pad_idx = 0.0 \n",
    "non_pad_elements = (test_y != tag_pad_idx).nonzero()"
   ]
  },
  {
   "cell_type": "code",
   "execution_count": 349,
   "id": "c0c39380",
   "metadata": {},
   "outputs": [
    {
     "data": {
      "text/plain": [
       "(array([   0,    1,    2, ..., 6181, 6182, 6183], dtype=int64),)"
      ]
     },
     "execution_count": 349,
     "metadata": {},
     "output_type": "execute_result"
    }
   ],
   "source": [
    "non_pad_elements"
   ]
  },
  {
   "cell_type": "markdown",
   "id": "10d91ec9",
   "metadata": {},
   "source": [
    "## Accurcay (top - 1)"
   ]
  },
  {
   "cell_type": "code",
   "execution_count": 350,
   "id": "3ac5aca8",
   "metadata": {},
   "outputs": [
    {
     "name": "stdout",
     "output_type": "stream",
     "text": [
      "(6190, 1) (6190,)\n"
     ]
    },
    {
     "data": {
      "text/plain": [
       "0.8689927583936801"
      ]
     },
     "execution_count": 350,
     "metadata": {},
     "output_type": "execute_result"
    }
   ],
   "source": [
    "def categorical_accuracy(preds, y, tag_pad_idx=0.0):\n",
    "    \"\"\"\n",
    "    Returns accuracy per batch, i.e. if you get 8/10 right, this returns 0.8, NOT 8\n",
    "    \n",
    "    preds : (N, C) numpy \n",
    "    y : (N, ) numpy \n",
    "    \"\"\"\n",
    "    max_preds = np.argmax(preds, axis = 1)[:, np.newaxis] # get the index of the max probability\n",
    "    non_pad_elements = (y != tag_pad_idx).nonzero()\n",
    "    print(max_preds.shape, y.shape)\n",
    "    acc = accuracy_score(max_preds[non_pad_elements], y[non_pad_elements])\n",
    "    \n",
    "    return acc \n",
    "\n",
    "categorical_accuracy(pred, test_y)"
   ]
  },
  {
   "cell_type": "markdown",
   "id": "1641529e",
   "metadata": {},
   "source": [
    "## ECE error "
   ]
  },
  {
   "cell_type": "code",
   "execution_count": 351,
   "id": "7f065447",
   "metadata": {},
   "outputs": [],
   "source": [
    "scores = pred[non_pad_elements[0]] \n",
    "labels = test_y[non_pad_elements]"
   ]
  },
  {
   "cell_type": "code",
   "execution_count": 352,
   "id": "4b0b59a3",
   "metadata": {},
   "outputs": [
    {
     "data": {
      "text/plain": [
       "(4557, 4)"
      ]
     },
     "execution_count": 352,
     "metadata": {},
     "output_type": "execute_result"
    }
   ],
   "source": [
    "scores.shape"
   ]
  },
  {
   "cell_type": "code",
   "execution_count": 353,
   "id": "e1fe6654",
   "metadata": {},
   "outputs": [],
   "source": [
    "def len0(x) :\n",
    "  # Proper len function that REALLY works.\n",
    "  # It gives the number of indices in first dimension\n",
    "\n",
    "  # Lists and tuples\n",
    "  if isinstance (x, list) :\n",
    "    return len(x)\n",
    "\n",
    "  if isinstance (x, tuple) :\n",
    "    return len(x)\n",
    "\n",
    "  # Numpy array\n",
    "  if isinstance (x, np.ndarray) :\n",
    "    return x.shape[0]\n",
    "\n",
    "  # Other numpy objects have length zero\n",
    "  if is_numpy_object (x) :\n",
    "    return 0\n",
    "\n",
    "  # Unindexable objects have length 0\n",
    "  if x is None :\n",
    "    return 0\n",
    "  if isinstance (x, int) :\n",
    "    return 0\n",
    "  if isinstance (x, float) :\n",
    "    return 0\n",
    "\n",
    "  # Do not count strings\n",
    "  if type (x) == type(\"a\") :\n",
    "    return 0\n",
    "\n",
    "  return 0"
   ]
  },
  {
   "cell_type": "code",
   "execution_count": 354,
   "id": "26a9a72f",
   "metadata": {},
   "outputs": [],
   "source": [
    "c2_scores = scores[:, 1]\n",
    "c2_order = c2_scores.argsort()\n",
    "\n",
    "c2_labels = labels[c2_order]\n",
    "c2_scores = c2_scores[c2_order]"
   ]
  },
  {
   "cell_type": "code",
   "execution_count": 355,
   "id": "103ccca8",
   "metadata": {},
   "outputs": [
    {
     "data": {
      "text/plain": [
       "1.0"
      ]
     },
     "execution_count": 355,
     "metadata": {},
     "output_type": "execute_result"
    }
   ],
   "source": [
    "c2_scores[-1]"
   ]
  },
  {
   "cell_type": "code",
   "execution_count": 356,
   "id": "a1b44cf4",
   "metadata": {},
   "outputs": [],
   "source": [
    "c2_cum = (c2_labels==1)"
   ]
  },
  {
   "cell_type": "code",
   "execution_count": 357,
   "id": "c8fe338e",
   "metadata": {},
   "outputs": [
    {
     "data": {
      "text/plain": [
       "(array([3059.,    0.,    0.,    0.,    0.,  275.,    0.,    0.,    0.,\n",
       "        1223.]),\n",
       " array([1. , 1.2, 1.4, 1.6, 1.8, 2. , 2.2, 2.4, 2.6, 2.8, 3. ]),\n",
       " <BarContainer object of 10 artists>)"
      ]
     },
     "execution_count": 357,
     "metadata": {},
     "output_type": "execute_result"
    },
    {
     "data": {
      "image/png": "[encoded data removed]",
      "text/plain": [
       "<Figure size 432x288 with 1 Axes>"
      ]
     },
     "metadata": {
      "needs_background": "light"
     },
     "output_type": "display_data"
    }
   ],
   "source": [
    "plt.hist(c2_labels)"
   ]
  },
  {
   "cell_type": "code",
   "execution_count": 358,
   "id": "e4a9e127",
   "metadata": {},
   "outputs": [
    {
     "data": {
      "text/plain": [
       "array([   0,    0,    0, ..., 3057, 3058, 3059], dtype=int32)"
      ]
     },
     "execution_count": 358,
     "metadata": {},
     "output_type": "execute_result"
    }
   ],
   "source": [
    "np.cumsum(c2_cum)"
   ]
  },
  {
   "cell_type": "code",
   "execution_count": 359,
   "id": "ca575792",
   "metadata": {},
   "outputs": [],
   "source": [
    "c2_cum = (c2_labels==1)\n",
    "c2_cum = np.cumsum(c2_cum)/3059"
   ]
  },
  {
   "cell_type": "code",
   "execution_count": 360,
   "id": "3197a19a",
   "metadata": {},
   "outputs": [
    {
     "data": {
      "text/plain": [
       "array([0.        , 0.        , 0.        , ..., 0.99934619, 0.9996731 ,\n",
       "       1.        ])"
      ]
     },
     "execution_count": 360,
     "metadata": {},
     "output_type": "execute_result"
    }
   ],
   "source": [
    "c2_cum"
   ]
  },
  {
   "cell_type": "code",
   "execution_count": 361,
   "id": "da84a27c",
   "metadata": {},
   "outputs": [
    {
     "data": {
      "text/plain": [
       "[<matplotlib.lines.Line2D at 0x1e6dc18cfd0>]"
      ]
     },
     "execution_count": 361,
     "metadata": {},
     "output_type": "execute_result"
    },
    {
     "data": {
      "image/png": "[encoded data removed]",
      "text/plain": [
       "<Figure size 432x288 with 1 Axes>"
      ]
     },
     "metadata": {
      "needs_background": "light"
     },
     "output_type": "display_data"
    }
   ],
   "source": [
    "plt.plot(c2_cum)"
   ]
  },
  {
   "cell_type": "code",
   "execution_count": 362,
   "id": "b3279e2e",
   "metadata": {},
   "outputs": [
    {
     "data": {
      "text/plain": [
       "[<matplotlib.lines.Line2D at 0x1e6dc1eeb20>]"
      ]
     },
     "execution_count": 362,
     "metadata": {},
     "output_type": "execute_result"
    },
    {
     "data": {
      "image/png": "[encoded data removed]",
      "text/plain": [
       "<Figure size 432x288 with 1 Axes>"
      ]
     },
     "metadata": {
      "needs_background": "light"
     },
     "output_type": "display_data"
    }
   ],
   "source": [
    "plt.plot(c2_scores)"
   ]
  },
  {
   "cell_type": "code",
   "execution_count": 363,
   "id": "04eea1c4",
   "metadata": {},
   "outputs": [
    {
     "data": {
      "text/plain": [
       "array([2.17491970e-23, 3.04930367e-23, 4.63145831e-23, ...,\n",
       "       1.00000000e+00, 1.00000000e+00, 1.00000000e+00])"
      ]
     },
     "execution_count": 363,
     "metadata": {},
     "output_type": "execute_result"
    }
   ],
   "source": [
    "c2_scores"
   ]
  },
  {
   "cell_type": "code",
   "execution_count": 364,
   "id": "09039eb0",
   "metadata": {},
   "outputs": [
    {
     "data": {
      "text/plain": [
       "[<matplotlib.lines.Line2D at 0x1e6dc252490>]"
      ]
     },
     "execution_count": 364,
     "metadata": {},
     "output_type": "execute_result"
    },
    {
     "data": {
      "image/png": "[encoded data removed]",
      "text/plain": [
       "<Figure size 432x288 with 1 Axes>"
      ]
     },
     "metadata": {
      "needs_background": "light"
     },
     "output_type": "display_data"
    }
   ],
   "source": [
    "plt.plot(c2_scores,c2_cum)"
   ]
  },
  {
   "cell_type": "code",
   "execution_count": 365,
   "id": "352c95a0",
   "metadata": {},
   "outputs": [],
   "source": [
    "#nsamples = len0(c2_scores)\n",
    "nsamples = np.sum((c2_labels==1))\n",
    "integrated_accuracy = np.cumsum((c2_labels==1))/ nsamples# / nsamples\n",
    "integrated_scores = np.cumsum(c2_scores) / nsamples\n",
    "percentile = np.linspace (0.0, 1.0, len(integrated_accuracy))"
   ]
  },
  {
   "cell_type": "code",
   "execution_count": 366,
   "id": "4f69525e",
   "metadata": {},
   "outputs": [
    {
     "data": {
      "text/plain": [
       "3059"
      ]
     },
     "execution_count": 366,
     "metadata": {},
     "output_type": "execute_result"
    }
   ],
   "source": [
    "nsamples"
   ]
  },
  {
   "cell_type": "code",
   "execution_count": 367,
   "id": "1f9e0ef2",
   "metadata": {},
   "outputs": [],
   "source": [
    "def int_scores(class_label, labels, scores):\n",
    "    c2_scores = scores[:, class_label]\n",
    "    c2_order = c2_scores.argsort()\n",
    "\n",
    "    c2_labels = labels[c2_order]\n",
    "    c2_scores = c2_scores[c2_order]\n",
    "    nsamples = np.sum((c2_labels==class_label))\n",
    "    integrated_accuracy = np.cumsum((c2_labels==class_label))/ nsamples# / nsamples\n",
    "    integrated_scores = np.cumsum(c2_scores) / nsamples\n",
    "    percentile = np.linspace (0.0, 1.0, len(integrated_accuracy))\n",
    "    return percentile, integrated_accuracy, integrated_scores"
   ]
  },
  {
   "cell_type": "code",
   "execution_count": 379,
   "id": "89509902",
   "metadata": {},
   "outputs": [],
   "source": [
    "percentile, integrated_accuracy, integrated_scores = int_scores(3, labels, scores)"
   ]
  },
  {
   "cell_type": "code",
   "execution_count": 380,
   "id": "2c3b89f4",
   "metadata": {},
   "outputs": [
    {
     "data": {
      "image/png": "[encoded data removed]",
      "text/plain": [
       "<Figure size 432x288 with 1 Axes>"
      ]
     },
     "metadata": {
      "needs_background": "light"
     },
     "output_type": "display_data"
    }
   ],
   "source": [
    "plt.plot(percentile, integrated_accuracy, label=\"ACC\")\n",
    "plt.plot(percentile, integrated_scores, label=\"CONF\")\n",
    "plt.xlabel(\"Percentile\")\n",
    "plt.ylabel(\"Cumulative Confidence / Cumulative Accuracy\")\n",
    "plt.legend()\n",
    "plt.show()"
   ]
  },
  {
   "cell_type": "code",
   "execution_count": 381,
   "id": "6610c231",
   "metadata": {},
   "outputs": [
    {
     "data": {
      "image/png": "[encoded data removed]",
      "text/plain": [
       "<Figure size 432x288 with 1 Axes>"
      ]
     },
     "metadata": {
      "needs_background": "light"
     },
     "output_type": "display_data"
    }
   ],
   "source": [
    "plt.plot(integrated_accuracy, integrated_accuracy, label=\"ACC\")\n",
    "plt.plot(integrated_accuracy, integrated_scores, label=\"CONF\")\n",
    "\n",
    "#plt.plot(integrated_scores, integrated_accuracy)\n",
    "plt.xlim([0,1])\n",
    "plt.xlabel(\"Cumulative Accuracy\")\n",
    "plt.ylabel(\"Cumulative Confidence\")\n",
    "plt.legend()\n",
    "plt.show()"
   ]
  },
  {
   "cell_type": "code",
   "execution_count": 382,
   "id": "2e8f4b3f",
   "metadata": {},
   "outputs": [
    {
     "data": {
      "text/plain": [
       "[<matplotlib.lines.Line2D at 0x1e6ea1284c0>]"
      ]
     },
     "execution_count": 382,
     "metadata": {},
     "output_type": "execute_result"
    },
    {
     "data": {
      "image/png": "[encoded data removed]",
      "text/plain": [
       "<Figure size 432x288 with 1 Axes>"
      ]
     },
     "metadata": {
      "needs_background": "light"
     },
     "output_type": "display_data"
    }
   ],
   "source": [
    "plt.plot(integrated_scores)"
   ]
  },
  {
   "cell_type": "code",
   "execution_count": 372,
   "id": "6c62cd62",
   "metadata": {},
   "outputs": [
    {
     "data": {
      "text/plain": [
       "[<matplotlib.lines.Line2D at 0x1e6de8724f0>]"
      ]
     },
     "execution_count": 372,
     "metadata": {},
     "output_type": "execute_result"
    },
    {
     "data": {
      "image/png": "[encoded data removed]",
      "text/plain": [
       "<Figure size 432x288 with 1 Axes>"
      ]
     },
     "metadata": {
      "needs_background": "light"
     },
     "output_type": "display_data"
    }
   ],
   "source": [
    "plt.plot(percentile, c2_scores)\n",
    "plt.plot(percentile, (c2_labels==1))"
   ]
  },
  {
   "cell_type": "code",
   "execution_count": 47,
   "id": "0afb49fd",
   "metadata": {},
   "outputs": [],
   "source": [
    "# Sort the data according to score\n",
    "order = scores.argsort()\n",
    "scores = scores[order]\n",
    "labels = labels[order]\n",
    "\n",
    "#Accumulate and normalize by dividing by num samples\n",
    "nsamples = len0(scores)\n",
    "integrated_accuracy = np.cumsum(labels) / nsamples\n",
    "integrated_scores = np.cumsum(scores) / nsamples\n",
    "percentile = np.linspace (0.0, 1.0, nsamples)"
   ]
  },
  {
   "cell_type": "code",
   "execution_count": 56,
   "id": "ba1a905d",
   "metadata": {},
   "outputs": [
    {
     "data": {
      "text/plain": [
       "(4557, 1, 4, 1, 4, 1, 4, 1, 4)"
      ]
     },
     "execution_count": 56,
     "metadata": {},
     "output_type": "execute_result"
    }
   ],
   "source": [
    "scores.shape"
   ]
  },
  {
   "cell_type": "code",
   "execution_count": 53,
   "id": "684d446d",
   "metadata": {},
   "outputs": [],
   "source": [
    "def get_top_results (scores, labels, nn, inclusive=False, return_topn_classid=False) :\n",
    "\n",
    "  # Different if we want to take inclusing scores\n",
    "  if inclusive : return get_top_results_inclusive (scores, labels, nn=nn)\n",
    "\n",
    "  #  nn should be negative, -1 means top, -2 means second top, etc\n",
    "  # Get the position of the n-th largest value in each row\n",
    "  topn = [np.argpartition(score, nn)[nn] for score in scores]\n",
    "  nthscore = [score[n] for score, n in zip (scores, topn)]\n",
    "  labs = [1.0 if int(label) == int(n) else 0.0 for label, n in zip(labels, topn)]\n",
    "\n",
    "  # Change to tensor\n",
    "  tscores = np.array (nthscore)\n",
    "  tacc = np.array(labs)\n",
    "\n",
    "  if return_topn_classid:\n",
    "    return tscores, tacc, topn\n",
    "  else:\n",
    "    return tscores, tacc"
   ]
  },
  {
   "cell_type": "code",
   "execution_count": 65,
   "id": "a2cfeff7",
   "metadata": {},
   "outputs": [],
   "source": [
    "tscores, tacc = get_top_results(scores, labels, nn=-1)"
   ]
  },
  {
   "cell_type": "code",
   "execution_count": 183,
   "id": "139886de",
   "metadata": {},
   "outputs": [
    {
     "data": {
      "text/plain": [
       "(array([1454.,  333.,  336.,  350.,  355.,  349.,  338.,  351.,  342.,\n",
       "         349.]),\n",
       " array([0. , 0.1, 0.2, 0.3, 0.4, 0.5, 0.6, 0.7, 0.8, 0.9, 1. ]),\n",
       " <BarContainer object of 10 artists>)"
      ]
     },
     "execution_count": 183,
     "metadata": {},
     "output_type": "execute_result"
    },
    {
     "data": {
      "image/png": "[encoded data removed]",
      "text/plain": [
       "<Figure size 432x288 with 1 Axes>"
      ]
     },
     "metadata": {
      "needs_background": "light"
     },
     "output_type": "display_data"
    }
   ],
   "source": [
    "plt.hist(c2_cum)"
   ]
  },
  {
   "cell_type": "code",
   "execution_count": 169,
   "id": "926cfd33",
   "metadata": {},
   "outputs": [
    {
     "data": {
      "text/plain": [
       "(array([1214.,    0.,    0.,    0.,    0.,    0.,    0.,    0.,    0.,\n",
       "        3343.]),\n",
       " array([2.30105353e-22, 1.00000000e-01, 2.00000000e-01, 3.00000000e-01,\n",
       "        4.00000000e-01, 5.00000000e-01, 6.00000000e-01, 7.00000000e-01,\n",
       "        8.00000000e-01, 9.00000000e-01, 1.00000000e+00]),\n",
       " <BarContainer object of 10 artists>)"
      ]
     },
     "execution_count": 169,
     "metadata": {},
     "output_type": "execute_result"
    },
    {
     "data": {
      "image/png": "[encoded data removed]",
      "text/plain": [
       "<Figure size 432x288 with 1 Axes>"
      ]
     },
     "metadata": {
      "needs_background": "light"
     },
     "output_type": "display_data"
    }
   ],
   "source": [
    "plt.hist(c2_scores)"
   ]
  },
  {
   "cell_type": "code",
   "execution_count": 178,
   "id": "dbca0d37",
   "metadata": {},
   "outputs": [
    {
     "data": {
      "text/plain": [
       "array([0.35895161])"
      ]
     },
     "execution_count": 178,
     "metadata": {},
     "output_type": "execute_result"
    }
   ],
   "source": [
    "ECE = ECELoss(1000)\n",
    "ECE.eval(c2_scores, c2_cum)"
   ]
  },
  {
   "cell_type": "code",
   "execution_count": 180,
   "id": "7d4f010c",
   "metadata": {},
   "outputs": [
    {
     "data": {
      "text/plain": [
       "[1.8218607918042434e-06, 0.008102937940360324, 0.9999999792029682]"
      ]
     },
     "execution_count": 180,
     "metadata": {},
     "output_type": "execute_result"
    }
   ],
   "source": [
    "ECE.cof"
   ]
  },
  {
   "cell_type": "code",
   "execution_count": 181,
   "id": "dc7f7679",
   "metadata": {},
   "outputs": [
    {
     "data": {
      "text/plain": [
       "[0.018962600594464404, 0.03759398496240601, 0.5175849141771308]"
      ]
     },
     "execution_count": 181,
     "metadata": {},
     "output_type": "execute_result"
    }
   ],
   "source": [
    "ECE.acc"
   ]
  },
  {
   "cell_type": "code",
   "execution_count": 179,
   "id": "b7e4d687",
   "metadata": {},
   "outputs": [
    {
     "data": {
      "text/plain": [
       "[<matplotlib.lines.Line2D at 0x1e6f0a30610>]"
      ]
     },
     "execution_count": 179,
     "metadata": {},
     "output_type": "execute_result"
    },
    {
     "data": {
      "image/png": "[encoded data removed]",
      "text/plain": [
       "<Figure size 432x288 with 1 Axes>"
      ]
     },
     "metadata": {
      "needs_background": "light"
     },
     "output_type": "display_data"
    }
   ],
   "source": [
    "plt.plot(ECE.acc, ECE.cof)"
   ]
  },
  {
   "cell_type": "code",
   "execution_count": 172,
   "id": "ae09a3cf",
   "metadata": {},
   "outputs": [],
   "source": [
    "class ECELoss():\n",
    "    \"\"\"\n",
    "    Calculates the Expected Calibration Error of a model.\n",
    "    (This isn't necessary for temperature scaling, just a cool metric).\n",
    "    The input to this loss is the logits of a model, NOT the softmax scores.\n",
    "    This divides the confidence outputs into equally-sized interval bins.\n",
    "    In each bin, we compute the confidence gap:\n",
    "    bin_gap = | avg_confidence_in_bin - accuracy_in_bin |\n",
    "    We then return a weighted average of the gaps, based on the number\n",
    "    of samples in each bin\n",
    "    See: Naeini, Mahdi Pakdaman, Gregory F. Cooper, and Milos Hauskrecht.\n",
    "    \"Obtaining Well Calibrated Probabilities Using Bayesian Binning.\" AAAI.\n",
    "    2015.\n",
    "    \"\"\"\n",
    "    def __init__(self, n_bins=15):\n",
    "        \"\"\"\n",
    "        n_bins (int): number of confidence interval bins\n",
    "        \"\"\"\n",
    "        super(ECELoss, self).__init__()\n",
    "        bin_boundaries = np.linspace(0, 1, n_bins + 1)\n",
    "        self.bin_lowers = bin_boundaries[:-1]\n",
    "        self.bin_uppers = bin_boundaries[1:]\n",
    "\n",
    "    def eval(self, confidences, accuracies):\n",
    "        ece = np.zeros(1)\n",
    "        \n",
    "        acc = []\n",
    "        cof = []\n",
    "        for bin_lower, bin_upper in zip(self.bin_lowers, self.bin_uppers):\n",
    "            # Calculated |confidence - accuracy| in each bin\n",
    "            in_bin = confidences.__gt__(bin_lower) * confidences.__le__(bin_upper)\n",
    "            prop_in_bin = in_bin.astype(float).mean()\n",
    "            if prop_in_bin.item() > 0:\n",
    "                accuracy_in_bin = accuracies[in_bin].astype(float).mean()\n",
    "                avg_confidence_in_bin = confidences[in_bin].mean()\n",
    "                ece += np.abs(avg_confidence_in_bin - accuracy_in_bin) * prop_in_bin\n",
    "                acc.append(accuracy_in_bin)\n",
    "                cof.append(avg_confidence_in_bin)\n",
    "        self.acc = acc\n",
    "        self.cof = cof \n",
    "        return ece"
   ]
  },
  {
   "cell_type": "code",
   "execution_count": null,
   "id": "31494815",
   "metadata": {},
   "outputs": [],
   "source": [
    "def ECE(py, y_test, n_bins=10):\n",
    "    py = np.array(py)\n",
    "    y_test = np.array(y_test)\n",
    "    if y_test.ndim > 1:\n",
    "        y_test = np.argmax(y_test, axis=1)\n",
    "    py_index = np.argmax(py, axis=1)\n",
    "    py_value = []\n",
    "    for i in range(py.shape[0]):\n",
    "        py_value.append(py[i, py_index[i]])\n",
    "    py_value = np.array(py_value)\n",
    "    acc, conf = np.zeros(n_bins), np.zeros(n_bins)\n",
    "    Bm = np.zeros(n_bins)\n",
    "    for m in range(n_bins):\n",
    "        a, b = m / n_bins, (m + 1) / n_bins\n",
    "        for i in range(py.shape[0]):\n",
    "            if py_value[i] > a and py_value[i] <= b:\n",
    "                Bm[m] += 1\n",
    "                if py_index[i] == y_test[i]:\n",
    "                    acc[m] += 1\n",
    "                conf[m] += py_value[i]\n",
    "        if Bm[m] != 0:\n",
    "            acc[m] = acc[m] / Bm[m]\n",
    "            conf[m] = conf[m] / Bm[m]\n",
    "    ece = 0\n",
    "    for m in range(n_bins):\n",
    "        ece += Bm[m] * np.abs((acc[m] - conf[m]))\n",
    "    return ece / sum(Bm)\n"
   ]
  },
  {
   "cell_type": "code",
   "execution_count": 33,
   "id": "4725b65b",
   "metadata": {},
   "outputs": [],
   "source": [
    "p1 = pred[non_pad_elements, 1]\n",
    "p2 = pred[non_pad_elements, 2] + pred[non_pad_elements, 3]"
   ]
  },
  {
   "cell_type": "code",
   "execution_count": 34,
   "id": "c3c0daef",
   "metadata": {},
   "outputs": [
    {
     "data": {
      "text/plain": [
       "torch.Size([4557, 1])"
      ]
     },
     "execution_count": 34,
     "metadata": {},
     "output_type": "execute_result"
    }
   ],
   "source": [
    "p1.shape"
   ]
  },
  {
   "cell_type": "code",
   "execution_count": 35,
   "id": "b98358e0",
   "metadata": {},
   "outputs": [
    {
     "data": {
      "text/plain": [
       "torch.Size([4557, 1])"
      ]
     },
     "execution_count": 35,
     "metadata": {},
     "output_type": "execute_result"
    }
   ],
   "source": [
    "p2.shape"
   ]
  },
  {
   "cell_type": "code",
   "execution_count": 36,
   "id": "517df56a",
   "metadata": {},
   "outputs": [
    {
     "data": {
      "text/plain": [
       "tensor([[2.0408e-22],\n",
       "        [3.1418e-19],\n",
       "        [1.8476e-17],\n",
       "        ...,\n",
       "        [7.4248e-20],\n",
       "        [2.6364e-19],\n",
       "        [5.0523e-20]], dtype=torch.float64, grad_fn=<AddBackward0>)"
      ]
     },
     "execution_count": 36,
     "metadata": {},
     "output_type": "execute_result"
    }
   ],
   "source": [
    "p2"
   ]
  },
  {
   "cell_type": "code",
   "execution_count": 37,
   "id": "3ad3f159",
   "metadata": {},
   "outputs": [
    {
     "data": {
      "text/plain": [
       "tensor([[1.],\n",
       "        [1.],\n",
       "        [1.],\n",
       "        ...,\n",
       "        [1.],\n",
       "        [1.],\n",
       "        [1.]], dtype=torch.float64, grad_fn=<IndexBackward0>)"
      ]
     },
     "execution_count": 37,
     "metadata": {},
     "output_type": "execute_result"
    }
   ],
   "source": [
    "p1"
   ]
  },
  {
   "cell_type": "code",
   "execution_count": 41,
   "id": "23d74078",
   "metadata": {},
   "outputs": [],
   "source": [
    "pp1 = p1.detach().cpu().numpy()\n",
    "pp2 = p2.detach().cpu().numpy()"
   ]
  },
  {
   "cell_type": "code",
   "execution_count": 53,
   "id": "1b354fd8",
   "metadata": {},
   "outputs": [],
   "source": [
    "yy = test_tensor_y.detach().cpu().numpy()"
   ]
  },
  {
   "cell_type": "code",
   "execution_count": 55,
   "id": "2368a762",
   "metadata": {},
   "outputs": [],
   "source": [
    "yy = yy[non_pad_elements]"
   ]
  },
  {
   "cell_type": "code",
   "execution_count": 57,
   "id": "05e040ca",
   "metadata": {},
   "outputs": [],
   "source": [
    "yy = yy - 1 "
   ]
  },
  {
   "cell_type": "code",
   "execution_count": 58,
   "id": "b33189f9",
   "metadata": {},
   "outputs": [
    {
     "data": {
      "text/plain": [
       "array([[0],\n",
       "       [0],\n",
       "       [0],\n",
       "       ...,\n",
       "       [0],\n",
       "       [0],\n",
       "       [0]], dtype=int64)"
      ]
     },
     "execution_count": 58,
     "metadata": {},
     "output_type": "execute_result"
    }
   ],
   "source": [
    "yy"
   ]
  },
  {
   "cell_type": "code",
   "execution_count": 59,
   "id": "035c51a7",
   "metadata": {},
   "outputs": [],
   "source": [
    "yy[yy==2] = 1"
   ]
  },
  {
   "cell_type": "code",
   "execution_count": 68,
   "id": "f0f9381a",
   "metadata": {},
   "outputs": [
    {
     "data": {
      "text/plain": [
       "(3059,)"
      ]
     },
     "execution_count": 68,
     "metadata": {},
     "output_type": "execute_result"
    }
   ],
   "source": [
    "yy[yy==0].shape"
   ]
  },
  {
   "cell_type": "code",
   "execution_count": null,
   "id": "e7bf89e2",
   "metadata": {},
   "outputs": [],
   "source": [
    "from sklearn.preprocessing import label_binarize\n",
    "label_binarize()"
   ]
  },
  {
   "cell_type": "code",
   "execution_count": 43,
   "id": "35ed87c7",
   "metadata": {},
   "outputs": [],
   "source": [
    "pp = np.hstack((pp1, pp2))"
   ]
  },
  {
   "cell_type": "code",
   "execution_count": 73,
   "id": "45d01712",
   "metadata": {},
   "outputs": [
    {
     "data": {
      "text/plain": [
       "array([1.00000000e+00, 2.04079048e-22])"
      ]
     },
     "execution_count": 73,
     "metadata": {},
     "output_type": "execute_result"
    }
   ],
   "source": [
    "pp[0]"
   ]
  },
  {
   "cell_type": "code",
   "execution_count": 70,
   "id": "0fcfaddf",
   "metadata": {},
   "outputs": [],
   "source": [
    "from sklearn import svm, datasets\n",
    "from sklearn.metrics import roc_curve, auc\n",
    "import matplotlib.pyplot as plt"
   ]
  },
  {
   "cell_type": "code",
   "execution_count": 76,
   "id": "b16967f8",
   "metadata": {},
   "outputs": [
    {
     "data": {
      "text/plain": [
       "array([[0],\n",
       "       [0],\n",
       "       [0],\n",
       "       ...,\n",
       "       [0],\n",
       "       [0],\n",
       "       [0]], dtype=int64)"
      ]
     },
     "execution_count": 76,
     "metadata": {},
     "output_type": "execute_result"
    }
   ],
   "source": [
    "yy"
   ]
  },
  {
   "cell_type": "code",
   "execution_count": 77,
   "id": "0e10af48",
   "metadata": {},
   "outputs": [],
   "source": [
    "fpr, tpr, _ = roc_curve(yy, pp[:, 1], pos_label=1)\n",
    "roc_auc = auc(fpr, tpr)"
   ]
  },
  {
   "cell_type": "code",
   "execution_count": 93,
   "id": "e38b5c61",
   "metadata": {},
   "outputs": [
    {
     "data": {
      "image/png": "[encoded data removed]",
      "text/plain": [
       "<Figure size 432x288 with 1 Axes>"
      ]
     },
     "metadata": {
      "needs_background": "light"
     },
     "output_type": "display_data"
    }
   ],
   "source": [
    "lw = 2\n",
    "plt.plot(\n",
    "    fpr,\n",
    "    tpr,\n",
    "    color=\"darkorange\",\n",
    "    lw = lw, \n",
    "    label=\"ROC curve (area = %0.2f)\" % roc_auc,\n",
    ")\n",
    "plt.plot([0, 1], [0, 1], color=\"navy\", lw=lw, linestyle=\"--\")\n",
    "plt.xlim([0.0, 1.0])\n",
    "plt.ylim([0.0, 1.05])\n",
    "plt.xlabel(\"False Positive Rate\")\n",
    "plt.ylabel(\"True Positive Rate\")\n",
    "plt.title(\"Receiver operating characteristic MCC = 0 / O.W.\")\n",
    "plt.legend(loc=\"lower right\")\n",
    "plt.show()"
   ]
  },
  {
   "cell_type": "code",
   "execution_count": 92,
   "id": "542e85c6",
   "metadata": {},
   "outputs": [
    {
     "ename": "ValueError",
     "evalue": "Classification metrics can't handle a mix of binary and continuous targets",
     "output_type": "error",
     "traceback": [
      "\u001b[1;31m---------------------------------------------------------------------------\u001b[0m",
      "\u001b[1;31mValueError\u001b[0m                                Traceback (most recent call last)",
      "Input \u001b[1;32mIn [92]\u001b[0m, in \u001b[0;36m<cell line: 2>\u001b[1;34m()\u001b[0m\n\u001b[0;32m      1\u001b[0m \u001b[38;5;28;01mfrom\u001b[39;00m \u001b[38;5;21;01msklearn\u001b[39;00m\u001b[38;5;21;01m.\u001b[39;00m\u001b[38;5;21;01mmetrics\u001b[39;00m \u001b[38;5;28;01mimport\u001b[39;00m f1_score\n\u001b[1;32m----> 2\u001b[0m \u001b[43mf1_score\u001b[49m\u001b[43m(\u001b[49m\u001b[43myy\u001b[49m\u001b[43m,\u001b[49m\u001b[43m \u001b[49m\u001b[43mpp\u001b[49m\u001b[43m[\u001b[49m\u001b[43m:\u001b[49m\u001b[43m,\u001b[49m\u001b[38;5;241;43m1\u001b[39;49m\u001b[43m]\u001b[49m\u001b[43m,\u001b[49m\u001b[43m \u001b[49m\u001b[43maverage\u001b[49m\u001b[38;5;241;43m=\u001b[39;49m\u001b[38;5;124;43m'\u001b[39;49m\u001b[38;5;124;43mmacro\u001b[39;49m\u001b[38;5;124;43m'\u001b[39;49m\u001b[43m)\u001b[49m\n",
      "File \u001b[1;32m~\\anaconda3\\envs\\NF\\lib\\site-packages\\sklearn\\metrics\\_classification.py:1123\u001b[0m, in \u001b[0;36mf1_score\u001b[1;34m(y_true, y_pred, labels, pos_label, average, sample_weight, zero_division)\u001b[0m\n\u001b[0;32m    992\u001b[0m \u001b[38;5;28;01mdef\u001b[39;00m \u001b[38;5;21mf1_score\u001b[39m(\n\u001b[0;32m    993\u001b[0m     y_true,\n\u001b[0;32m    994\u001b[0m     y_pred,\n\u001b[1;32m   (...)\u001b[0m\n\u001b[0;32m   1000\u001b[0m     zero_division\u001b[38;5;241m=\u001b[39m\u001b[38;5;124m\"\u001b[39m\u001b[38;5;124mwarn\u001b[39m\u001b[38;5;124m\"\u001b[39m,\n\u001b[0;32m   1001\u001b[0m ):\n\u001b[0;32m   1002\u001b[0m     \u001b[38;5;124;03m\"\"\"Compute the F1 score, also known as balanced F-score or F-measure.\u001b[39;00m\n\u001b[0;32m   1003\u001b[0m \n\u001b[0;32m   1004\u001b[0m \u001b[38;5;124;03m    The F1 score can be interpreted as a harmonic mean of the precision and\u001b[39;00m\n\u001b[1;32m   (...)\u001b[0m\n\u001b[0;32m   1121\u001b[0m \u001b[38;5;124;03m    modified with ``zero_division``.\u001b[39;00m\n\u001b[0;32m   1122\u001b[0m \u001b[38;5;124;03m    \"\"\"\u001b[39;00m\n\u001b[1;32m-> 1123\u001b[0m     \u001b[38;5;28;01mreturn\u001b[39;00m \u001b[43mfbeta_score\u001b[49m\u001b[43m(\u001b[49m\n\u001b[0;32m   1124\u001b[0m \u001b[43m        \u001b[49m\u001b[43my_true\u001b[49m\u001b[43m,\u001b[49m\n\u001b[0;32m   1125\u001b[0m \u001b[43m        \u001b[49m\u001b[43my_pred\u001b[49m\u001b[43m,\u001b[49m\n\u001b[0;32m   1126\u001b[0m \u001b[43m        \u001b[49m\u001b[43mbeta\u001b[49m\u001b[38;5;241;43m=\u001b[39;49m\u001b[38;5;241;43m1\u001b[39;49m\u001b[43m,\u001b[49m\n\u001b[0;32m   1127\u001b[0m \u001b[43m        \u001b[49m\u001b[43mlabels\u001b[49m\u001b[38;5;241;43m=\u001b[39;49m\u001b[43mlabels\u001b[49m\u001b[43m,\u001b[49m\n\u001b[0;32m   1128\u001b[0m \u001b[43m        \u001b[49m\u001b[43mpos_label\u001b[49m\u001b[38;5;241;43m=\u001b[39;49m\u001b[43mpos_label\u001b[49m\u001b[43m,\u001b[49m\n\u001b[0;32m   1129\u001b[0m \u001b[43m        \u001b[49m\u001b[43maverage\u001b[49m\u001b[38;5;241;43m=\u001b[39;49m\u001b[43maverage\u001b[49m\u001b[43m,\u001b[49m\n\u001b[0;32m   1130\u001b[0m \u001b[43m        \u001b[49m\u001b[43msample_weight\u001b[49m\u001b[38;5;241;43m=\u001b[39;49m\u001b[43msample_weight\u001b[49m\u001b[43m,\u001b[49m\n\u001b[0;32m   1131\u001b[0m \u001b[43m        \u001b[49m\u001b[43mzero_division\u001b[49m\u001b[38;5;241;43m=\u001b[39;49m\u001b[43mzero_division\u001b[49m\u001b[43m,\u001b[49m\n\u001b[0;32m   1132\u001b[0m \u001b[43m    \u001b[49m\u001b[43m)\u001b[49m\n",
      "File \u001b[1;32m~\\anaconda3\\envs\\NF\\lib\\site-packages\\sklearn\\metrics\\_classification.py:1261\u001b[0m, in \u001b[0;36mfbeta_score\u001b[1;34m(y_true, y_pred, beta, labels, pos_label, average, sample_weight, zero_division)\u001b[0m\n\u001b[0;32m   1135\u001b[0m \u001b[38;5;28;01mdef\u001b[39;00m \u001b[38;5;21mfbeta_score\u001b[39m(\n\u001b[0;32m   1136\u001b[0m     y_true,\n\u001b[0;32m   1137\u001b[0m     y_pred,\n\u001b[1;32m   (...)\u001b[0m\n\u001b[0;32m   1144\u001b[0m     zero_division\u001b[38;5;241m=\u001b[39m\u001b[38;5;124m\"\u001b[39m\u001b[38;5;124mwarn\u001b[39m\u001b[38;5;124m\"\u001b[39m,\n\u001b[0;32m   1145\u001b[0m ):\n\u001b[0;32m   1146\u001b[0m     \u001b[38;5;124;03m\"\"\"Compute the F-beta score.\u001b[39;00m\n\u001b[0;32m   1147\u001b[0m \n\u001b[0;32m   1148\u001b[0m \u001b[38;5;124;03m    The F-beta score is the weighted harmonic mean of precision and recall,\u001b[39;00m\n\u001b[1;32m   (...)\u001b[0m\n\u001b[0;32m   1258\u001b[0m \u001b[38;5;124;03m    array([0.71..., 0.        , 0.        ])\u001b[39;00m\n\u001b[0;32m   1259\u001b[0m \u001b[38;5;124;03m    \"\"\"\u001b[39;00m\n\u001b[1;32m-> 1261\u001b[0m     _, _, f, _ \u001b[38;5;241m=\u001b[39m \u001b[43mprecision_recall_fscore_support\u001b[49m\u001b[43m(\u001b[49m\n\u001b[0;32m   1262\u001b[0m \u001b[43m        \u001b[49m\u001b[43my_true\u001b[49m\u001b[43m,\u001b[49m\n\u001b[0;32m   1263\u001b[0m \u001b[43m        \u001b[49m\u001b[43my_pred\u001b[49m\u001b[43m,\u001b[49m\n\u001b[0;32m   1264\u001b[0m \u001b[43m        \u001b[49m\u001b[43mbeta\u001b[49m\u001b[38;5;241;43m=\u001b[39;49m\u001b[43mbeta\u001b[49m\u001b[43m,\u001b[49m\n\u001b[0;32m   1265\u001b[0m \u001b[43m        \u001b[49m\u001b[43mlabels\u001b[49m\u001b[38;5;241;43m=\u001b[39;49m\u001b[43mlabels\u001b[49m\u001b[43m,\u001b[49m\n\u001b[0;32m   1266\u001b[0m \u001b[43m        \u001b[49m\u001b[43mpos_label\u001b[49m\u001b[38;5;241;43m=\u001b[39;49m\u001b[43mpos_label\u001b[49m\u001b[43m,\u001b[49m\n\u001b[0;32m   1267\u001b[0m \u001b[43m        \u001b[49m\u001b[43maverage\u001b[49m\u001b[38;5;241;43m=\u001b[39;49m\u001b[43maverage\u001b[49m\u001b[43m,\u001b[49m\n\u001b[0;32m   1268\u001b[0m \u001b[43m        \u001b[49m\u001b[43mwarn_for\u001b[49m\u001b[38;5;241;43m=\u001b[39;49m\u001b[43m(\u001b[49m\u001b[38;5;124;43m\"\u001b[39;49m\u001b[38;5;124;43mf-score\u001b[39;49m\u001b[38;5;124;43m\"\u001b[39;49m\u001b[43m,\u001b[49m\u001b[43m)\u001b[49m\u001b[43m,\u001b[49m\n\u001b[0;32m   1269\u001b[0m \u001b[43m        \u001b[49m\u001b[43msample_weight\u001b[49m\u001b[38;5;241;43m=\u001b[39;49m\u001b[43msample_weight\u001b[49m\u001b[43m,\u001b[49m\n\u001b[0;32m   1270\u001b[0m \u001b[43m        \u001b[49m\u001b[43mzero_division\u001b[49m\u001b[38;5;241;43m=\u001b[39;49m\u001b[43mzero_division\u001b[49m\u001b[43m,\u001b[49m\n\u001b[0;32m   1271\u001b[0m \u001b[43m    \u001b[49m\u001b[43m)\u001b[49m\n\u001b[0;32m   1272\u001b[0m     \u001b[38;5;28;01mreturn\u001b[39;00m f\n",
      "File \u001b[1;32m~\\anaconda3\\envs\\NF\\lib\\site-packages\\sklearn\\metrics\\_classification.py:1544\u001b[0m, in \u001b[0;36mprecision_recall_fscore_support\u001b[1;34m(y_true, y_pred, beta, labels, pos_label, average, warn_for, sample_weight, zero_division)\u001b[0m\n\u001b[0;32m   1542\u001b[0m \u001b[38;5;28;01mif\u001b[39;00m beta \u001b[38;5;241m<\u001b[39m \u001b[38;5;241m0\u001b[39m:\n\u001b[0;32m   1543\u001b[0m     \u001b[38;5;28;01mraise\u001b[39;00m \u001b[38;5;167;01mValueError\u001b[39;00m(\u001b[38;5;124m\"\u001b[39m\u001b[38;5;124mbeta should be >=0 in the F-beta score\u001b[39m\u001b[38;5;124m\"\u001b[39m)\n\u001b[1;32m-> 1544\u001b[0m labels \u001b[38;5;241m=\u001b[39m \u001b[43m_check_set_wise_labels\u001b[49m\u001b[43m(\u001b[49m\u001b[43my_true\u001b[49m\u001b[43m,\u001b[49m\u001b[43m \u001b[49m\u001b[43my_pred\u001b[49m\u001b[43m,\u001b[49m\u001b[43m \u001b[49m\u001b[43maverage\u001b[49m\u001b[43m,\u001b[49m\u001b[43m \u001b[49m\u001b[43mlabels\u001b[49m\u001b[43m,\u001b[49m\u001b[43m \u001b[49m\u001b[43mpos_label\u001b[49m\u001b[43m)\u001b[49m\n\u001b[0;32m   1546\u001b[0m \u001b[38;5;66;03m# Calculate tp_sum, pred_sum, true_sum ###\u001b[39;00m\n\u001b[0;32m   1547\u001b[0m samplewise \u001b[38;5;241m=\u001b[39m average \u001b[38;5;241m==\u001b[39m \u001b[38;5;124m\"\u001b[39m\u001b[38;5;124msamples\u001b[39m\u001b[38;5;124m\"\u001b[39m\n",
      "File \u001b[1;32m~\\anaconda3\\envs\\NF\\lib\\site-packages\\sklearn\\metrics\\_classification.py:1348\u001b[0m, in \u001b[0;36m_check_set_wise_labels\u001b[1;34m(y_true, y_pred, average, labels, pos_label)\u001b[0m\n\u001b[0;32m   1345\u001b[0m \u001b[38;5;28;01mif\u001b[39;00m average \u001b[38;5;129;01mnot\u001b[39;00m \u001b[38;5;129;01min\u001b[39;00m average_options \u001b[38;5;129;01mand\u001b[39;00m average \u001b[38;5;241m!=\u001b[39m \u001b[38;5;124m\"\u001b[39m\u001b[38;5;124mbinary\u001b[39m\u001b[38;5;124m\"\u001b[39m:\n\u001b[0;32m   1346\u001b[0m     \u001b[38;5;28;01mraise\u001b[39;00m \u001b[38;5;167;01mValueError\u001b[39;00m(\u001b[38;5;124m\"\u001b[39m\u001b[38;5;124maverage has to be one of \u001b[39m\u001b[38;5;124m\"\u001b[39m \u001b[38;5;241m+\u001b[39m \u001b[38;5;28mstr\u001b[39m(average_options))\n\u001b[1;32m-> 1348\u001b[0m y_type, y_true, y_pred \u001b[38;5;241m=\u001b[39m \u001b[43m_check_targets\u001b[49m\u001b[43m(\u001b[49m\u001b[43my_true\u001b[49m\u001b[43m,\u001b[49m\u001b[43m \u001b[49m\u001b[43my_pred\u001b[49m\u001b[43m)\u001b[49m\n\u001b[0;32m   1349\u001b[0m \u001b[38;5;66;03m# Convert to Python primitive type to avoid NumPy type / Python str\u001b[39;00m\n\u001b[0;32m   1350\u001b[0m \u001b[38;5;66;03m# comparison. See https://github.com/numpy/numpy/issues/6784\u001b[39;00m\n\u001b[0;32m   1351\u001b[0m present_labels \u001b[38;5;241m=\u001b[39m unique_labels(y_true, y_pred)\u001b[38;5;241m.\u001b[39mtolist()\n",
      "File \u001b[1;32m~\\anaconda3\\envs\\NF\\lib\\site-packages\\sklearn\\metrics\\_classification.py:93\u001b[0m, in \u001b[0;36m_check_targets\u001b[1;34m(y_true, y_pred)\u001b[0m\n\u001b[0;32m     90\u001b[0m     y_type \u001b[38;5;241m=\u001b[39m {\u001b[38;5;124m\"\u001b[39m\u001b[38;5;124mmulticlass\u001b[39m\u001b[38;5;124m\"\u001b[39m}\n\u001b[0;32m     92\u001b[0m \u001b[38;5;28;01mif\u001b[39;00m \u001b[38;5;28mlen\u001b[39m(y_type) \u001b[38;5;241m>\u001b[39m \u001b[38;5;241m1\u001b[39m:\n\u001b[1;32m---> 93\u001b[0m     \u001b[38;5;28;01mraise\u001b[39;00m \u001b[38;5;167;01mValueError\u001b[39;00m(\n\u001b[0;32m     94\u001b[0m         \u001b[38;5;124m\"\u001b[39m\u001b[38;5;124mClassification metrics can\u001b[39m\u001b[38;5;124m'\u001b[39m\u001b[38;5;124mt handle a mix of \u001b[39m\u001b[38;5;132;01m{0}\u001b[39;00m\u001b[38;5;124m and \u001b[39m\u001b[38;5;132;01m{1}\u001b[39;00m\u001b[38;5;124m targets\u001b[39m\u001b[38;5;124m\"\u001b[39m\u001b[38;5;241m.\u001b[39mformat(\n\u001b[0;32m     95\u001b[0m             type_true, type_pred\n\u001b[0;32m     96\u001b[0m         )\n\u001b[0;32m     97\u001b[0m     )\n\u001b[0;32m     99\u001b[0m \u001b[38;5;66;03m# We can't have more than one value on y_type => The set is no more needed\u001b[39;00m\n\u001b[0;32m    100\u001b[0m y_type \u001b[38;5;241m=\u001b[39m y_type\u001b[38;5;241m.\u001b[39mpop()\n",
      "\u001b[1;31mValueError\u001b[0m: Classification metrics can't handle a mix of binary and continuous targets"
     ]
    }
   ],
   "source": [
    "from sklearn.metrics import f1_score\n",
    "f1_score(yy, pp[:,1], average='macro')"
   ]
  }
 ],
 "metadata": {
  "kernelspec": {
   "display_name": "ATVI",
   "language": "python",
   "name": "nf"
  },
  "language_info": {
   "codemirror_mode": {
    "name": "ipython",
    "version": 3
   },
   "file_extension": ".py",
   "mimetype": "text/x-python",
   "name": "python",
   "nbconvert_exporter": "python",
   "pygments_lexer": "ipython3",
   "version": "3.9.7"
  }
 },
 "nbformat": 4,
 "nbformat_minor": 5
}
